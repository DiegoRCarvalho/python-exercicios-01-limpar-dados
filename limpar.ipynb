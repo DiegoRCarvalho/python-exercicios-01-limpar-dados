{
 "cells": [
  {
   "cell_type": "markdown",
   "metadata": {},
   "source": [
    "# Exercício de limpeza de dados em Python\n",
    "\n",
    "## Regras:\n",
    "\n",
    "- Aparência: sol, nublado, chuva\n",
    "- Temperatura: -130 ~ 130 F\n",
    "- Umidade: 0 ~ 100\n",
    "- Jogar: sim/não \n",
    "- Tratar valores NaN\n",
    "\n"
   ]
  }
 ],
 "metadata": {
  "language_info": {
   "name": "python"
  }
 },
 "nbformat": 4,
 "nbformat_minor": 2
}
